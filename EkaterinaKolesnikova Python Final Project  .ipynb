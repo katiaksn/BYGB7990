{
 "cells": [
  {
   "cell_type": "markdown",
   "id": "39cd0d2c",
   "metadata": {},
   "source": [
    "# Ekaterina Kolesnikova \n",
    "## Python Final Project \n",
    "## ISGB 7943 Section 2 "
   ]
  },
  {
   "cell_type": "markdown",
   "id": "962deebc",
   "metadata": {},
   "source": [
    "## Problem 1. \n",
    "Analyzing and drawing conclusions from the data set births.xlsx"
   ]
  },
  {
   "cell_type": "code",
   "execution_count": 1,
   "id": "0175206b",
   "metadata": {},
   "outputs": [],
   "source": [
    "import pandas as pd\n",
    "import matplotlib.pyplot as plt\n",
    "\n",
    "import seaborn as sns\n",
    "%matplotlib inline\n",
    "sns.set(palette = 'rainbow')"
   ]
  },
  {
   "cell_type": "markdown",
   "id": "6540c598",
   "metadata": {},
   "source": [
    "Lets read the data file and create a dataframe!"
   ]
  },
  {
   "cell_type": "code",
   "execution_count": 2,
   "id": "b95062dc",
   "metadata": {
    "scrolled": true
   },
   "outputs": [
    {
     "data": {
      "text/html": [
       "<div>\n",
       "<style scoped>\n",
       "    .dataframe tbody tr th:only-of-type {\n",
       "        vertical-align: middle;\n",
       "    }\n",
       "\n",
       "    .dataframe tbody tr th {\n",
       "        vertical-align: top;\n",
       "    }\n",
       "\n",
       "    .dataframe thead th {\n",
       "        text-align: right;\n",
       "    }\n",
       "</style>\n",
       "<table border=\"1\" class=\"dataframe\">\n",
       "  <thead>\n",
       "    <tr style=\"text-align: right;\">\n",
       "      <th></th>\n",
       "      <th>birth_year</th>\n",
       "      <th>gender</th>\n",
       "      <th>ethnicity</th>\n",
       "      <th>first_name</th>\n",
       "      <th>frequency</th>\n",
       "    </tr>\n",
       "  </thead>\n",
       "  <tbody>\n",
       "    <tr>\n",
       "      <th>0</th>\n",
       "      <td>2011</td>\n",
       "      <td>female</td>\n",
       "      <td>hispanic</td>\n",
       "      <td>geraldine</td>\n",
       "      <td>13</td>\n",
       "    </tr>\n",
       "    <tr>\n",
       "      <th>1</th>\n",
       "      <td>2011</td>\n",
       "      <td>female</td>\n",
       "      <td>hispanic</td>\n",
       "      <td>gia</td>\n",
       "      <td>21</td>\n",
       "    </tr>\n",
       "    <tr>\n",
       "      <th>2</th>\n",
       "      <td>2011</td>\n",
       "      <td>female</td>\n",
       "      <td>hispanic</td>\n",
       "      <td>gianna</td>\n",
       "      <td>49</td>\n",
       "    </tr>\n",
       "    <tr>\n",
       "      <th>3</th>\n",
       "      <td>2011</td>\n",
       "      <td>female</td>\n",
       "      <td>hispanic</td>\n",
       "      <td>giselle</td>\n",
       "      <td>38</td>\n",
       "    </tr>\n",
       "    <tr>\n",
       "      <th>4</th>\n",
       "      <td>2011</td>\n",
       "      <td>female</td>\n",
       "      <td>hispanic</td>\n",
       "      <td>grace</td>\n",
       "      <td>36</td>\n",
       "    </tr>\n",
       "    <tr>\n",
       "      <th>...</th>\n",
       "      <td>...</td>\n",
       "      <td>...</td>\n",
       "      <td>...</td>\n",
       "      <td>...</td>\n",
       "      <td>...</td>\n",
       "    </tr>\n",
       "    <tr>\n",
       "      <th>37532</th>\n",
       "      <td>2014</td>\n",
       "      <td>male</td>\n",
       "      <td>white non hispanic</td>\n",
       "      <td>yousef</td>\n",
       "      <td>18</td>\n",
       "    </tr>\n",
       "    <tr>\n",
       "      <th>37533</th>\n",
       "      <td>2014</td>\n",
       "      <td>male</td>\n",
       "      <td>white non hispanic</td>\n",
       "      <td>youssef</td>\n",
       "      <td>24</td>\n",
       "    </tr>\n",
       "    <tr>\n",
       "      <th>37534</th>\n",
       "      <td>2014</td>\n",
       "      <td>male</td>\n",
       "      <td>white non hispanic</td>\n",
       "      <td>yusuf</td>\n",
       "      <td>16</td>\n",
       "    </tr>\n",
       "    <tr>\n",
       "      <th>37535</th>\n",
       "      <td>2014</td>\n",
       "      <td>male</td>\n",
       "      <td>white non hispanic</td>\n",
       "      <td>zachary</td>\n",
       "      <td>90</td>\n",
       "    </tr>\n",
       "    <tr>\n",
       "      <th>37536</th>\n",
       "      <td>2014</td>\n",
       "      <td>male</td>\n",
       "      <td>white non hispanic</td>\n",
       "      <td>zev</td>\n",
       "      <td>49</td>\n",
       "    </tr>\n",
       "  </tbody>\n",
       "</table>\n",
       "<p>37537 rows × 5 columns</p>\n",
       "</div>"
      ],
      "text/plain": [
       "       birth_year  gender           ethnicity first_name  frequency\n",
       "0            2011  female            hispanic  geraldine         13\n",
       "1            2011  female            hispanic        gia         21\n",
       "2            2011  female            hispanic     gianna         49\n",
       "3            2011  female            hispanic    giselle         38\n",
       "4            2011  female            hispanic      grace         36\n",
       "...           ...     ...                 ...        ...        ...\n",
       "37532        2014    male  white non hispanic     yousef         18\n",
       "37533        2014    male  white non hispanic    youssef         24\n",
       "37534        2014    male  white non hispanic      yusuf         16\n",
       "37535        2014    male  white non hispanic    zachary         90\n",
       "37536        2014    male  white non hispanic        zev         49\n",
       "\n",
       "[37537 rows x 5 columns]"
      ]
     },
     "execution_count": 2,
     "metadata": {},
     "output_type": "execute_result"
    }
   ],
   "source": [
    "#1.1\n",
    "birth = pd.read_excel('births.xlsx')\n",
    "birth"
   ]
  },
  {
   "cell_type": "code",
   "execution_count": 3,
   "id": "abb17d7d",
   "metadata": {},
   "outputs": [
    {
     "name": "stdout",
     "output_type": "stream",
     "text": [
      "<class 'pandas.core.frame.DataFrame'>\n",
      "RangeIndex: 37537 entries, 0 to 37536\n",
      "Data columns (total 5 columns):\n",
      " #   Column      Non-Null Count  Dtype \n",
      "---  ------      --------------  ----- \n",
      " 0   birth_year  37537 non-null  int64 \n",
      " 1   gender      37537 non-null  object\n",
      " 2   ethnicity   37537 non-null  object\n",
      " 3   first_name  37537 non-null  object\n",
      " 4   frequency   37537 non-null  int64 \n",
      "dtypes: int64(2), object(3)\n",
      "memory usage: 1.4+ MB\n"
     ]
    }
   ],
   "source": [
    "birth.info()"
   ]
  },
  {
   "cell_type": "markdown",
   "id": "c762d247",
   "metadata": {},
   "source": [
    "It looks there is about 37537 records in this dataframe.  No values are null in this case, so not much cleaning had to be done"
   ]
  },
  {
   "cell_type": "code",
   "execution_count": 4,
   "id": "987fda2a",
   "metadata": {},
   "outputs": [
    {
     "name": "stdout",
     "output_type": "stream",
     "text": [
      "There were  1273006  babies reported in this dataset\n"
     ]
    }
   ],
   "source": [
    "#1.2\n",
    "total_babies = birth['frequency'].sum()\n",
    "print('There were ', total_babies, ' babies reported in this dataset')"
   ]
  },
  {
   "cell_type": "markdown",
   "id": "8d6d9d5c",
   "metadata": {},
   "source": [
    "The sum() function allowed us to highlight the column 'frequency' and count all of the values."
   ]
  },
  {
   "cell_type": "code",
   "execution_count": 5,
   "id": "8dc7f29b",
   "metadata": {},
   "outputs": [
    {
     "data": {
      "text/plain": [
       "gender\n",
       "female    558728\n",
       "male      714278\n",
       "Name: frequency, dtype: int64"
      ]
     },
     "execution_count": 5,
     "metadata": {},
     "output_type": "execute_result"
    }
   ],
   "source": [
    "#1.3\n",
    "birth.groupby('gender').frequency.sum()"
   ]
  },
  {
   "cell_type": "markdown",
   "id": "32400941",
   "metadata": {},
   "source": [
    "In this dataset, 558728 babies born were female and 714278 babies were male. "
   ]
  },
  {
   "cell_type": "code",
   "execution_count": 6,
   "id": "a5c27dc0",
   "metadata": {},
   "outputs": [
    {
     "data": {
      "text/plain": [
       "birth_year\n",
       "2011    269829\n",
       "2012    274122\n",
       "2013    262686\n",
       "2014    262634\n",
       "2015     69600\n",
       "2016     68740\n",
       "2017     65395\n",
       "Name: frequency, dtype: int64"
      ]
     },
     "execution_count": 6,
     "metadata": {},
     "output_type": "execute_result"
    }
   ],
   "source": [
    "#1.4\n",
    "birth.groupby('birth_year').frequency.sum()"
   ]
  },
  {
   "cell_type": "markdown",
   "id": "9305ba4d",
   "metadata": {},
   "source": [
    "The above chart details how many babies were born in each year from the year 2011 to 2017."
   ]
  },
  {
   "cell_type": "code",
   "execution_count": 7,
   "id": "b5ac81be",
   "metadata": {},
   "outputs": [
    {
     "data": {
      "text/plain": [
       "ethnicity\n",
       "asian and paci                 40085\n",
       "asian and pacific islander    131935\n",
       "black non hisp                 39426\n",
       "black non hispanic            145804\n",
       "hispanic                      425239\n",
       "white non hisp                103829\n",
       "white non hispanic            386688\n",
       "Name: frequency, dtype: int64"
      ]
     },
     "execution_count": 7,
     "metadata": {},
     "output_type": "execute_result"
    }
   ],
   "source": [
    "#1.5\n",
    "birth.groupby('ethnicity').frequency.sum()"
   ]
  },
  {
   "cell_type": "markdown",
   "id": "f56cec76",
   "metadata": {},
   "source": [
    "The above chart details how many babies were born of each ethnicity.  "
   ]
  },
  {
   "cell_type": "code",
   "execution_count": 8,
   "id": "5227ce68",
   "metadata": {},
   "outputs": [
    {
     "data": {
      "text/html": [
       "<div>\n",
       "<style scoped>\n",
       "    .dataframe tbody tr th:only-of-type {\n",
       "        vertical-align: middle;\n",
       "    }\n",
       "\n",
       "    .dataframe tbody tr th {\n",
       "        vertical-align: top;\n",
       "    }\n",
       "\n",
       "    .dataframe thead th {\n",
       "        text-align: right;\n",
       "    }\n",
       "</style>\n",
       "<table border=\"1\" class=\"dataframe\">\n",
       "  <thead>\n",
       "    <tr style=\"text-align: right;\">\n",
       "      <th></th>\n",
       "      <th>birth_year</th>\n",
       "      <th>gender</th>\n",
       "      <th>ethnicity</th>\n",
       "      <th>first_name</th>\n",
       "      <th>frequency</th>\n",
       "    </tr>\n",
       "  </thead>\n",
       "  <tbody>\n",
       "    <tr>\n",
       "      <th>17370</th>\n",
       "      <td>2011</td>\n",
       "      <td>male</td>\n",
       "      <td>hispanic</td>\n",
       "      <td>jayden</td>\n",
       "      <td>426</td>\n",
       "    </tr>\n",
       "    <tr>\n",
       "      <th>30968</th>\n",
       "      <td>2011</td>\n",
       "      <td>male</td>\n",
       "      <td>hispanic</td>\n",
       "      <td>jayden</td>\n",
       "      <td>426</td>\n",
       "    </tr>\n",
       "    <tr>\n",
       "      <th>3441</th>\n",
       "      <td>2011</td>\n",
       "      <td>male</td>\n",
       "      <td>hispanic</td>\n",
       "      <td>jayden</td>\n",
       "      <td>426</td>\n",
       "    </tr>\n",
       "    <tr>\n",
       "      <th>24742</th>\n",
       "      <td>2017</td>\n",
       "      <td>male</td>\n",
       "      <td>hispanic</td>\n",
       "      <td>liam</td>\n",
       "      <td>407</td>\n",
       "    </tr>\n",
       "    <tr>\n",
       "      <th>26706</th>\n",
       "      <td>2016</td>\n",
       "      <td>male</td>\n",
       "      <td>hispanic</td>\n",
       "      <td>liam</td>\n",
       "      <td>387</td>\n",
       "    </tr>\n",
       "    <tr>\n",
       "      <th>...</th>\n",
       "      <td>...</td>\n",
       "      <td>...</td>\n",
       "      <td>...</td>\n",
       "      <td>...</td>\n",
       "      <td>...</td>\n",
       "    </tr>\n",
       "    <tr>\n",
       "      <th>32450</th>\n",
       "      <td>2012</td>\n",
       "      <td>male</td>\n",
       "      <td>asian and paci</td>\n",
       "      <td>aarav</td>\n",
       "      <td>10</td>\n",
       "    </tr>\n",
       "    <tr>\n",
       "      <th>18024</th>\n",
       "      <td>2012</td>\n",
       "      <td>male</td>\n",
       "      <td>black non hisp</td>\n",
       "      <td>abdoul</td>\n",
       "      <td>10</td>\n",
       "    </tr>\n",
       "    <tr>\n",
       "      <th>12635</th>\n",
       "      <td>2014</td>\n",
       "      <td>female</td>\n",
       "      <td>black non hispanic</td>\n",
       "      <td>fatou</td>\n",
       "      <td>10</td>\n",
       "    </tr>\n",
       "    <tr>\n",
       "      <th>18022</th>\n",
       "      <td>2012</td>\n",
       "      <td>male</td>\n",
       "      <td>asian and paci</td>\n",
       "      <td>zayan</td>\n",
       "      <td>10</td>\n",
       "    </tr>\n",
       "    <tr>\n",
       "      <th>18045</th>\n",
       "      <td>2012</td>\n",
       "      <td>male</td>\n",
       "      <td>black non hisp</td>\n",
       "      <td>armani</td>\n",
       "      <td>10</td>\n",
       "    </tr>\n",
       "  </tbody>\n",
       "</table>\n",
       "<p>37537 rows × 5 columns</p>\n",
       "</div>"
      ],
      "text/plain": [
       "       birth_year  gender           ethnicity first_name  frequency\n",
       "17370        2011    male            hispanic     jayden        426\n",
       "30968        2011    male            hispanic     jayden        426\n",
       "3441         2011    male            hispanic     jayden        426\n",
       "24742        2017    male            hispanic       liam        407\n",
       "26706        2016    male            hispanic       liam        387\n",
       "...           ...     ...                 ...        ...        ...\n",
       "32450        2012    male      asian and paci      aarav         10\n",
       "18024        2012    male      black non hisp     abdoul         10\n",
       "12635        2014  female  black non hispanic      fatou         10\n",
       "18022        2012    male      asian and paci      zayan         10\n",
       "18045        2012    male      black non hisp     armani         10\n",
       "\n",
       "[37537 rows x 5 columns]"
      ]
     },
     "execution_count": 8,
     "metadata": {},
     "output_type": "execute_result"
    }
   ],
   "source": [
    "#1.6\n",
    "birth.sort_values('frequency', ascending=False)"
   ]
  },
  {
   "cell_type": "code",
   "execution_count": 9,
   "id": "69ae2743",
   "metadata": {},
   "outputs": [
    {
     "data": {
      "text/plain": [
       "first_name\n",
       "ethan       12071\n",
       "jacob       11762\n",
       "jayden      11165\n",
       "daniel      10035\n",
       "matthew      9983\n",
       "david        9920\n",
       "michael      9796\n",
       "sophia       9578\n",
       "isabella     9291\n",
       "aiden        9276\n",
       "Name: frequency, dtype: int64"
      ]
     },
     "execution_count": 9,
     "metadata": {},
     "output_type": "execute_result"
    }
   ],
   "source": [
    "#1.7\n",
    "names = birth.groupby('first_name').frequency.sum()\n",
    "names.sort_values(ascending=False)[0:10]"
   ]
  },
  {
   "cell_type": "markdown",
   "id": "f1af8a2e",
   "metadata": {},
   "source": [
    "The above chart outlines the top tem most popular names ignoring other factors. \n",
    "It was first grouped by name and frequency to name a new list, and then this new list was sorted by values and only the top ten indexes are being displayed"
   ]
  },
  {
   "cell_type": "code",
   "execution_count": 10,
   "id": "b1990ea7",
   "metadata": {},
   "outputs": [
    {
     "data": {
      "image/png": "[encoded data removed]",
      "text/plain": [
       "<Figure size 720x360 with 1 Axes>"
      ]
     },
     "metadata": {},
     "output_type": "display_data"
    }
   ],
   "source": [
    "#1.8\n",
    "filter1 = (birth.first_name == 'david')\n",
    "david = birth[filter1]\n",
    "david_grouped = david.groupby('birth_year').frequency.sum()\n",
    "david_grouped.plot(figsize=(10,5), kind = \"line\", title = \"Popularity of name 'David'\", color=\"green\");"
   ]
  },
  {
   "cell_type": "markdown",
   "id": "52f5329e",
   "metadata": {},
   "source": [
    "David Beckhams statements about the popularity of his name have seemed to go down.  The above graph proves him right. \n",
    "The above lines of code created a visual correlation of the name david and the frequency of it through out the years. "
   ]
  },
  {
   "cell_type": "code",
   "execution_count": 11,
   "id": "6787bd12",
   "metadata": {},
   "outputs": [
    {
     "name": "stdout",
     "output_type": "stream",
     "text": [
      "There are  1832 unique names in the dataset\n"
     ]
    }
   ],
   "source": [
    "#1.9\n",
    "print('There are ', birth.first_name.nunique(), 'unique names in the dataset')"
   ]
  },
  {
   "cell_type": "markdown",
   "id": "65fe2ab4",
   "metadata": {},
   "source": [
    "There seems to be 1832 unique names in the dataset."
   ]
  },
  {
   "cell_type": "code",
   "execution_count": 12,
   "id": "7e289858",
   "metadata": {},
   "outputs": [
    {
     "name": "stdout",
     "output_type": "stream",
     "text": [
      "There are  852 unique male names\n",
      "There are  1011 unique female names\n"
     ]
    }
   ],
   "source": [
    "#1.10\n",
    "filter2 = (birth.gender == 'male')\n",
    "filter3 = (birth.gender == 'female')\n",
    "males = birth[filter2]\n",
    "females = birth[filter3]\n",
    "print('There are ' , males.first_name.nunique(), 'unique male names')\n",
    "print('There are ',females.first_name.nunique(), 'unique female names') "
   ]
  },
  {
   "cell_type": "markdown",
   "id": "3904c6aa",
   "metadata": {},
   "source": [
    "1.11\n",
    "The answer to 1.9 is not consistent with 1.10. If we sum up the total of names from question 1.10, it would give us 1863 unique names.  This inconsistency happened because there are unisex names that can be used for both males and females. "
   ]
  },
  {
   "cell_type": "code",
   "execution_count": 13,
   "id": "d02bb05c",
   "metadata": {
    "scrolled": false
   },
   "outputs": [
    {
     "data": {
      "text/html": [
       "<div>\n",
       "<style scoped>\n",
       "    .dataframe tbody tr th:only-of-type {\n",
       "        vertical-align: middle;\n",
       "    }\n",
       "\n",
       "    .dataframe tbody tr th {\n",
       "        vertical-align: top;\n",
       "    }\n",
       "\n",
       "    .dataframe thead th {\n",
       "        text-align: right;\n",
       "    }\n",
       "</style>\n",
       "<table border=\"1\" class=\"dataframe\">\n",
       "  <thead>\n",
       "    <tr style=\"text-align: right;\">\n",
       "      <th>birth_year</th>\n",
       "      <th>2011</th>\n",
       "      <th>2012</th>\n",
       "      <th>2013</th>\n",
       "      <th>2014</th>\n",
       "      <th>2015</th>\n",
       "      <th>2016</th>\n",
       "      <th>2017</th>\n",
       "      <th>All</th>\n",
       "    </tr>\n",
       "    <tr>\n",
       "      <th>ethnicity</th>\n",
       "      <th></th>\n",
       "      <th></th>\n",
       "      <th></th>\n",
       "      <th></th>\n",
       "      <th></th>\n",
       "      <th></th>\n",
       "      <th></th>\n",
       "      <th></th>\n",
       "    </tr>\n",
       "  </thead>\n",
       "  <tbody>\n",
       "    <tr>\n",
       "      <th>asian and paci</th>\n",
       "      <td>NaN</td>\n",
       "      <td>40085.0</td>\n",
       "      <td>NaN</td>\n",
       "      <td>NaN</td>\n",
       "      <td>NaN</td>\n",
       "      <td>NaN</td>\n",
       "      <td>NaN</td>\n",
       "      <td>40085</td>\n",
       "    </tr>\n",
       "    <tr>\n",
       "      <th>asian and pacific islander</th>\n",
       "      <td>32217.0</td>\n",
       "      <td>NaN</td>\n",
       "      <td>34760.0</td>\n",
       "      <td>36536.0</td>\n",
       "      <td>9584.0</td>\n",
       "      <td>9973.0</td>\n",
       "      <td>8865.0</td>\n",
       "      <td>131935</td>\n",
       "    </tr>\n",
       "    <tr>\n",
       "      <th>black non hisp</th>\n",
       "      <td>NaN</td>\n",
       "      <td>39426.0</td>\n",
       "      <td>NaN</td>\n",
       "      <td>NaN</td>\n",
       "      <td>NaN</td>\n",
       "      <td>NaN</td>\n",
       "      <td>NaN</td>\n",
       "      <td>39426</td>\n",
       "    </tr>\n",
       "    <tr>\n",
       "      <th>black non hispanic</th>\n",
       "      <td>42045.0</td>\n",
       "      <td>NaN</td>\n",
       "      <td>38548.0</td>\n",
       "      <td>37728.0</td>\n",
       "      <td>9637.0</td>\n",
       "      <td>9147.0</td>\n",
       "      <td>8699.0</td>\n",
       "      <td>145804</td>\n",
       "    </tr>\n",
       "    <tr>\n",
       "      <th>hispanic</th>\n",
       "      <td>96743.0</td>\n",
       "      <td>90782.0</td>\n",
       "      <td>86585.0</td>\n",
       "      <td>85529.0</td>\n",
       "      <td>22813.0</td>\n",
       "      <td>22086.0</td>\n",
       "      <td>20701.0</td>\n",
       "      <td>425239</td>\n",
       "    </tr>\n",
       "    <tr>\n",
       "      <th>white non hisp</th>\n",
       "      <td>NaN</td>\n",
       "      <td>103829.0</td>\n",
       "      <td>NaN</td>\n",
       "      <td>NaN</td>\n",
       "      <td>NaN</td>\n",
       "      <td>NaN</td>\n",
       "      <td>NaN</td>\n",
       "      <td>103829</td>\n",
       "    </tr>\n",
       "    <tr>\n",
       "      <th>white non hispanic</th>\n",
       "      <td>98824.0</td>\n",
       "      <td>NaN</td>\n",
       "      <td>102793.0</td>\n",
       "      <td>102841.0</td>\n",
       "      <td>27566.0</td>\n",
       "      <td>27534.0</td>\n",
       "      <td>27130.0</td>\n",
       "      <td>386688</td>\n",
       "    </tr>\n",
       "    <tr>\n",
       "      <th>All</th>\n",
       "      <td>269829.0</td>\n",
       "      <td>274122.0</td>\n",
       "      <td>262686.0</td>\n",
       "      <td>262634.0</td>\n",
       "      <td>69600.0</td>\n",
       "      <td>68740.0</td>\n",
       "      <td>65395.0</td>\n",
       "      <td>1273006</td>\n",
       "    </tr>\n",
       "  </tbody>\n",
       "</table>\n",
       "</div>"
      ],
      "text/plain": [
       "birth_year                      2011      2012      2013      2014     2015  \\\n",
       "ethnicity                                                                     \n",
       "asian and paci                   NaN   40085.0       NaN       NaN      NaN   \n",
       "asian and pacific islander   32217.0       NaN   34760.0   36536.0   9584.0   \n",
       "black non hisp                   NaN   39426.0       NaN       NaN      NaN   \n",
       "black non hispanic           42045.0       NaN   38548.0   37728.0   9637.0   \n",
       "hispanic                     96743.0   90782.0   86585.0   85529.0  22813.0   \n",
       "white non hisp                   NaN  103829.0       NaN       NaN      NaN   \n",
       "white non hispanic           98824.0       NaN  102793.0  102841.0  27566.0   \n",
       "All                         269829.0  274122.0  262686.0  262634.0  69600.0   \n",
       "\n",
       "birth_year                     2016     2017      All  \n",
       "ethnicity                                              \n",
       "asian and paci                  NaN      NaN    40085  \n",
       "asian and pacific islander   9973.0   8865.0   131935  \n",
       "black non hisp                  NaN      NaN    39426  \n",
       "black non hispanic           9147.0   8699.0   145804  \n",
       "hispanic                    22086.0  20701.0   425239  \n",
       "white non hisp                  NaN      NaN   103829  \n",
       "white non hispanic          27534.0  27130.0   386688  \n",
       "All                         68740.0  65395.0  1273006  "
      ]
     },
     "execution_count": 13,
     "metadata": {},
     "output_type": "execute_result"
    }
   ],
   "source": [
    "#1.12\n",
    "pd.crosstab(birth.ethnicity, birth.birth_year, values = birth.frequency,  aggfunc = 'sum', margins = True)\n",
    "\n"
   ]
  },
  {
   "cell_type": "markdown",
   "id": "49478abf",
   "metadata": {},
   "source": [
    "Some values have NA because there are some inconsistencies in the ethnicities.  Asian and paci is the same as asian and pacific islander.  If we take a closer look, if the two rows were overlapped, they would fill in eachothers gaps."
   ]
  },
  {
   "cell_type": "code",
   "execution_count": 14,
   "id": "4f9b13bb",
   "metadata": {},
   "outputs": [
    {
     "data": {
      "text/html": [
       "<div>\n",
       "<style scoped>\n",
       "    .dataframe tbody tr th:only-of-type {\n",
       "        vertical-align: middle;\n",
       "    }\n",
       "\n",
       "    .dataframe tbody tr th {\n",
       "        vertical-align: top;\n",
       "    }\n",
       "\n",
       "    .dataframe thead th {\n",
       "        text-align: right;\n",
       "    }\n",
       "</style>\n",
       "<table border=\"1\" class=\"dataframe\">\n",
       "  <thead>\n",
       "    <tr style=\"text-align: right;\">\n",
       "      <th>birth_year</th>\n",
       "      <th>2011</th>\n",
       "      <th>2012</th>\n",
       "      <th>2013</th>\n",
       "      <th>2014</th>\n",
       "      <th>2015</th>\n",
       "      <th>2016</th>\n",
       "      <th>2017</th>\n",
       "      <th>All</th>\n",
       "    </tr>\n",
       "    <tr>\n",
       "      <th>gender</th>\n",
       "      <th></th>\n",
       "      <th></th>\n",
       "      <th></th>\n",
       "      <th></th>\n",
       "      <th></th>\n",
       "      <th></th>\n",
       "      <th></th>\n",
       "      <th></th>\n",
       "    </tr>\n",
       "  </thead>\n",
       "  <tbody>\n",
       "    <tr>\n",
       "      <th>female</th>\n",
       "      <td>117700</td>\n",
       "      <td>119406</td>\n",
       "      <td>115183</td>\n",
       "      <td>116590</td>\n",
       "      <td>30592</td>\n",
       "      <td>30360</td>\n",
       "      <td>28897</td>\n",
       "      <td>558728</td>\n",
       "    </tr>\n",
       "    <tr>\n",
       "      <th>male</th>\n",
       "      <td>152129</td>\n",
       "      <td>154716</td>\n",
       "      <td>147503</td>\n",
       "      <td>146044</td>\n",
       "      <td>39008</td>\n",
       "      <td>38380</td>\n",
       "      <td>36498</td>\n",
       "      <td>714278</td>\n",
       "    </tr>\n",
       "    <tr>\n",
       "      <th>All</th>\n",
       "      <td>269829</td>\n",
       "      <td>274122</td>\n",
       "      <td>262686</td>\n",
       "      <td>262634</td>\n",
       "      <td>69600</td>\n",
       "      <td>68740</td>\n",
       "      <td>65395</td>\n",
       "      <td>1273006</td>\n",
       "    </tr>\n",
       "  </tbody>\n",
       "</table>\n",
       "</div>"
      ],
      "text/plain": [
       "birth_year    2011    2012    2013    2014   2015   2016   2017      All\n",
       "gender                                                                  \n",
       "female      117700  119406  115183  116590  30592  30360  28897   558728\n",
       "male        152129  154716  147503  146044  39008  38380  36498   714278\n",
       "All         269829  274122  262686  262634  69600  68740  65395  1273006"
      ]
     },
     "execution_count": 14,
     "metadata": {},
     "output_type": "execute_result"
    }
   ],
   "source": [
    "#1.13\n",
    "pd.crosstab(birth.gender, birth.birth_year, values = birth.frequency, aggfunc = 'sum', margins = True)"
   ]
  },
  {
   "cell_type": "markdown",
   "id": "02003beb",
   "metadata": {},
   "source": [
    "## Problem 2. \n",
    "Analyzing the price of houses in a community and understand why the price varies. \n"
   ]
  },
  {
   "cell_type": "markdown",
   "id": "3f716c78",
   "metadata": {},
   "source": [
    "Lets read the house_prices file and analyze it for any gaps or inconsistencies before doing any analyzing!"
   ]
  },
  {
   "cell_type": "code",
   "execution_count": 15,
   "id": "b25cf6cb",
   "metadata": {
    "scrolled": true
   },
   "outputs": [
    {
     "data": {
      "text/html": [
       "<div>\n",
       "<style scoped>\n",
       "    .dataframe tbody tr th:only-of-type {\n",
       "        vertical-align: middle;\n",
       "    }\n",
       "\n",
       "    .dataframe tbody tr th {\n",
       "        vertical-align: top;\n",
       "    }\n",
       "\n",
       "    .dataframe thead th {\n",
       "        text-align: right;\n",
       "    }\n",
       "</style>\n",
       "<table border=\"1\" class=\"dataframe\">\n",
       "  <thead>\n",
       "    <tr style=\"text-align: right;\">\n",
       "      <th></th>\n",
       "      <th>address</th>\n",
       "      <th>price</th>\n",
       "      <th>acres</th>\n",
       "      <th>size_sqft</th>\n",
       "      <th>age</th>\n",
       "      <th>rooms</th>\n",
       "      <th>baths</th>\n",
       "      <th>garages</th>\n",
       "    </tr>\n",
       "  </thead>\n",
       "  <tbody>\n",
       "    <tr>\n",
       "      <th>0</th>\n",
       "      <td>9 Sycamore Road</td>\n",
       "      <td>466.00</td>\n",
       "      <td>0.2297</td>\n",
       "      <td>2448</td>\n",
       "      <td>46</td>\n",
       "      <td>7</td>\n",
       "      <td>3.5</td>\n",
       "      <td>2</td>\n",
       "    </tr>\n",
       "    <tr>\n",
       "      <th>1</th>\n",
       "      <td>21 Jefferson St</td>\n",
       "      <td>364.00</td>\n",
       "      <td>0.2192</td>\n",
       "      <td>1942</td>\n",
       "      <td>51</td>\n",
       "      <td>7</td>\n",
       "      <td>2.5</td>\n",
       "      <td>1</td>\n",
       "    </tr>\n",
       "    <tr>\n",
       "      <th>2</th>\n",
       "      <td>38 Hitching Post Lane</td>\n",
       "      <td>429.00</td>\n",
       "      <td>0.1630</td>\n",
       "      <td>2073</td>\n",
       "      <td>29</td>\n",
       "      <td>5</td>\n",
       "      <td>3.0</td>\n",
       "      <td>2</td>\n",
       "    </tr>\n",
       "    <tr>\n",
       "      <th>3</th>\n",
       "      <td>4 Poppy Lane</td>\n",
       "      <td>548.40</td>\n",
       "      <td>0.4608</td>\n",
       "      <td>2707</td>\n",
       "      <td>18</td>\n",
       "      <td>8</td>\n",
       "      <td>2.5</td>\n",
       "      <td>1</td>\n",
       "    </tr>\n",
       "    <tr>\n",
       "      <th>4</th>\n",
       "      <td>5 Daniel Drive</td>\n",
       "      <td>405.90</td>\n",
       "      <td>0.2549</td>\n",
       "      <td>2042</td>\n",
       "      <td>46</td>\n",
       "      <td>7</td>\n",
       "      <td>1.5</td>\n",
       "      <td>1</td>\n",
       "    </tr>\n",
       "    <tr>\n",
       "      <th>5</th>\n",
       "      <td>15 Francis Terrace</td>\n",
       "      <td>374.10</td>\n",
       "      <td>0.2290</td>\n",
       "      <td>2089</td>\n",
       "      <td>88</td>\n",
       "      <td>7</td>\n",
       "      <td>2.0</td>\n",
       "      <td>0</td>\n",
       "    </tr>\n",
       "    <tr>\n",
       "      <th>6</th>\n",
       "      <td>23 Guilfoy Street</td>\n",
       "      <td>315.00</td>\n",
       "      <td>0.1808</td>\n",
       "      <td>1433</td>\n",
       "      <td>48</td>\n",
       "      <td>7</td>\n",
       "      <td>2.0</td>\n",
       "      <td>0</td>\n",
       "    </tr>\n",
       "    <tr>\n",
       "      <th>7</th>\n",
       "      <td>17 Carlyle Drive</td>\n",
       "      <td>749.74</td>\n",
       "      <td>0.5015</td>\n",
       "      <td>2991</td>\n",
       "      <td>7</td>\n",
       "      <td>9</td>\n",
       "      <td>2.5</td>\n",
       "      <td>1</td>\n",
       "    </tr>\n",
       "    <tr>\n",
       "      <th>8</th>\n",
       "      <td>8 Craft Avenue</td>\n",
       "      <td>217.70</td>\n",
       "      <td>0.2229</td>\n",
       "      <td>1008</td>\n",
       "      <td>52</td>\n",
       "      <td>5</td>\n",
       "      <td>1.0</td>\n",
       "      <td>0</td>\n",
       "    </tr>\n",
       "    <tr>\n",
       "      <th>9</th>\n",
       "      <td>22 Beechwood Ct.</td>\n",
       "      <td>635.70</td>\n",
       "      <td>0.1300</td>\n",
       "      <td>3202</td>\n",
       "      <td>15</td>\n",
       "      <td>8</td>\n",
       "      <td>2.5</td>\n",
       "      <td>2</td>\n",
       "    </tr>\n",
       "    <tr>\n",
       "      <th>10</th>\n",
       "      <td>14 Fox Street</td>\n",
       "      <td>350.70</td>\n",
       "      <td>0.1763</td>\n",
       "      <td>2230</td>\n",
       "      <td>54</td>\n",
       "      <td>8</td>\n",
       "      <td>2.0</td>\n",
       "      <td>0</td>\n",
       "    </tr>\n",
       "    <tr>\n",
       "      <th>11</th>\n",
       "      <td>7 Raynham Road</td>\n",
       "      <td>455.00</td>\n",
       "      <td>0.4200</td>\n",
       "      <td>1848</td>\n",
       "      <td>48</td>\n",
       "      <td>7</td>\n",
       "      <td>2.0</td>\n",
       "      <td>1</td>\n",
       "    </tr>\n",
       "    <tr>\n",
       "      <th>12</th>\n",
       "      <td>2 Jerome Drive</td>\n",
       "      <td>356.20</td>\n",
       "      <td>0.2520</td>\n",
       "      <td>2100</td>\n",
       "      <td>46</td>\n",
       "      <td>6</td>\n",
       "      <td>2.0</td>\n",
       "      <td>0</td>\n",
       "    </tr>\n",
       "    <tr>\n",
       "      <th>13</th>\n",
       "      <td>7 Valentine Street</td>\n",
       "      <td>271.70</td>\n",
       "      <td>0.1148</td>\n",
       "      <td>1846</td>\n",
       "      <td>12</td>\n",
       "      <td>5</td>\n",
       "      <td>3.0</td>\n",
       "      <td>1</td>\n",
       "    </tr>\n",
       "    <tr>\n",
       "      <th>14</th>\n",
       "      <td>38 Jefferson Street</td>\n",
       "      <td>304.30</td>\n",
       "      <td>0.1693</td>\n",
       "      <td>1331</td>\n",
       "      <td>64</td>\n",
       "      <td>5</td>\n",
       "      <td>1.0</td>\n",
       "      <td>1</td>\n",
       "    </tr>\n",
       "    <tr>\n",
       "      <th>15</th>\n",
       "      <td>15 Inwood Road</td>\n",
       "      <td>288.40</td>\n",
       "      <td>0.1714</td>\n",
       "      <td>1344</td>\n",
       "      <td>52</td>\n",
       "      <td>8</td>\n",
       "      <td>1.0</td>\n",
       "      <td>0</td>\n",
       "    </tr>\n",
       "    <tr>\n",
       "      <th>16</th>\n",
       "      <td>29 Meadowfield Lane</td>\n",
       "      <td>396.70</td>\n",
       "      <td>0.3849</td>\n",
       "      <td>1822</td>\n",
       "      <td>44</td>\n",
       "      <td>6</td>\n",
       "      <td>2.0</td>\n",
       "      <td>1</td>\n",
       "    </tr>\n",
       "    <tr>\n",
       "      <th>17</th>\n",
       "      <td>13 Westland Drive</td>\n",
       "      <td>613.50</td>\n",
       "      <td>0.6545</td>\n",
       "      <td>2479</td>\n",
       "      <td>46</td>\n",
       "      <td>6</td>\n",
       "      <td>2.5</td>\n",
       "      <td>2</td>\n",
       "    </tr>\n",
       "    <tr>\n",
       "      <th>18</th>\n",
       "      <td>79 Valentine Street</td>\n",
       "      <td>314.10</td>\n",
       "      <td>0.1722</td>\n",
       "      <td>1605</td>\n",
       "      <td>52</td>\n",
       "      <td>6</td>\n",
       "      <td>3.0</td>\n",
       "      <td>0</td>\n",
       "    </tr>\n",
       "    <tr>\n",
       "      <th>19</th>\n",
       "      <td>13 Fairmont Place</td>\n",
       "      <td>363.50</td>\n",
       "      <td>0.1435</td>\n",
       "      <td>2080</td>\n",
       "      <td>78</td>\n",
       "      <td>11</td>\n",
       "      <td>2.0</td>\n",
       "      <td>0</td>\n",
       "    </tr>\n",
       "    <tr>\n",
       "      <th>20</th>\n",
       "      <td>1 Prestwick Terrace</td>\n",
       "      <td>364.30</td>\n",
       "      <td>0.2755</td>\n",
       "      <td>2410</td>\n",
       "      <td>71</td>\n",
       "      <td>6</td>\n",
       "      <td>1.0</td>\n",
       "      <td>1</td>\n",
       "    </tr>\n",
       "    <tr>\n",
       "      <th>21</th>\n",
       "      <td>11 Clement Street</td>\n",
       "      <td>305.10</td>\n",
       "      <td>0.1148</td>\n",
       "      <td>1753</td>\n",
       "      <td>97</td>\n",
       "      <td>8</td>\n",
       "      <td>2.0</td>\n",
       "      <td>0</td>\n",
       "    </tr>\n",
       "    <tr>\n",
       "      <th>22</th>\n",
       "      <td>7 Woodland Road</td>\n",
       "      <td>441.70</td>\n",
       "      <td>0.3636</td>\n",
       "      <td>1884</td>\n",
       "      <td>45</td>\n",
       "      <td>7</td>\n",
       "      <td>2.0</td>\n",
       "      <td>2</td>\n",
       "    </tr>\n",
       "    <tr>\n",
       "      <th>23</th>\n",
       "      <td>36 Elm Avenue</td>\n",
       "      <td>353.10</td>\n",
       "      <td>0.1474</td>\n",
       "      <td>2050</td>\n",
       "      <td>41</td>\n",
       "      <td>10</td>\n",
       "      <td>2.0</td>\n",
       "      <td>2</td>\n",
       "    </tr>\n",
       "    <tr>\n",
       "      <th>24</th>\n",
       "      <td>17 Duke Place</td>\n",
       "      <td>463.30</td>\n",
       "      <td>0.2281</td>\n",
       "      <td>2978</td>\n",
       "      <td>40</td>\n",
       "      <td>6</td>\n",
       "      <td>2.5</td>\n",
       "      <td>2</td>\n",
       "    </tr>\n",
       "    <tr>\n",
       "      <th>25</th>\n",
       "      <td>12 Prospect Avenue</td>\n",
       "      <td>320.00</td>\n",
       "      <td>0.4626</td>\n",
       "      <td>2132</td>\n",
       "      <td>82</td>\n",
       "      <td>7</td>\n",
       "      <td>1.0</td>\n",
       "      <td>0</td>\n",
       "    </tr>\n",
       "    <tr>\n",
       "      <th>26</th>\n",
       "      <td>1 Buckeye Road</td>\n",
       "      <td>332.84</td>\n",
       "      <td>0.1889</td>\n",
       "      <td>1551</td>\n",
       "      <td>54</td>\n",
       "      <td>6</td>\n",
       "      <td>2.0</td>\n",
       "      <td>0</td>\n",
       "    </tr>\n",
       "    <tr>\n",
       "      <th>27</th>\n",
       "      <td>30 Ann Street</td>\n",
       "      <td>276.60</td>\n",
       "      <td>0.1228</td>\n",
       "      <td>1129</td>\n",
       "      <td>44</td>\n",
       "      <td>5</td>\n",
       "      <td>1.0</td>\n",
       "      <td>0</td>\n",
       "    </tr>\n",
       "    <tr>\n",
       "      <th>28</th>\n",
       "      <td>26 Broadfield Place</td>\n",
       "      <td>397.00</td>\n",
       "      <td>0.1492</td>\n",
       "      <td>1674</td>\n",
       "      <td>34</td>\n",
       "      <td>7</td>\n",
       "      <td>2.0</td>\n",
       "      <td>1</td>\n",
       "    </tr>\n",
       "    <tr>\n",
       "      <th>29</th>\n",
       "      <td>16 Jackson Street</td>\n",
       "      <td>221.90</td>\n",
       "      <td>0.0852</td>\n",
       "      <td>1184</td>\n",
       "      <td>94</td>\n",
       "      <td>5</td>\n",
       "      <td>1.0</td>\n",
       "      <td>0</td>\n",
       "    </tr>\n",
       "  </tbody>\n",
       "</table>\n",
       "</div>"
      ],
      "text/plain": [
       "                  address   price   acres  size_sqft  age  rooms  baths  \\\n",
       "0         9 Sycamore Road  466.00  0.2297       2448   46      7    3.5   \n",
       "1         21 Jefferson St  364.00  0.2192       1942   51      7    2.5   \n",
       "2   38 Hitching Post Lane  429.00  0.1630       2073   29      5    3.0   \n",
       "3            4 Poppy Lane  548.40  0.4608       2707   18      8    2.5   \n",
       "4          5 Daniel Drive  405.90  0.2549       2042   46      7    1.5   \n",
       "5      15 Francis Terrace  374.10  0.2290       2089   88      7    2.0   \n",
       "6       23 Guilfoy Street  315.00  0.1808       1433   48      7    2.0   \n",
       "7        17 Carlyle Drive  749.74  0.5015       2991    7      9    2.5   \n",
       "8          8 Craft Avenue  217.70  0.2229       1008   52      5    1.0   \n",
       "9        22 Beechwood Ct.  635.70  0.1300       3202   15      8    2.5   \n",
       "10          14 Fox Street  350.70  0.1763       2230   54      8    2.0   \n",
       "11         7 Raynham Road  455.00  0.4200       1848   48      7    2.0   \n",
       "12         2 Jerome Drive  356.20  0.2520       2100   46      6    2.0   \n",
       "13     7 Valentine Street  271.70  0.1148       1846   12      5    3.0   \n",
       "14    38 Jefferson Street  304.30  0.1693       1331   64      5    1.0   \n",
       "15         15 Inwood Road  288.40  0.1714       1344   52      8    1.0   \n",
       "16    29 Meadowfield Lane  396.70  0.3849       1822   44      6    2.0   \n",
       "17      13 Westland Drive  613.50  0.6545       2479   46      6    2.5   \n",
       "18    79 Valentine Street  314.10  0.1722       1605   52      6    3.0   \n",
       "19      13 Fairmont Place  363.50  0.1435       2080   78     11    2.0   \n",
       "20    1 Prestwick Terrace  364.30  0.2755       2410   71      6    1.0   \n",
       "21      11 Clement Street  305.10  0.1148       1753   97      8    2.0   \n",
       "22        7 Woodland Road  441.70  0.3636       1884   45      7    2.0   \n",
       "23          36 Elm Avenue  353.10  0.1474       2050   41     10    2.0   \n",
       "24          17 Duke Place  463.30  0.2281       2978   40      6    2.5   \n",
       "25     12 Prospect Avenue  320.00  0.4626       2132   82      7    1.0   \n",
       "26         1 Buckeye Road  332.84  0.1889       1551   54      6    2.0   \n",
       "27          30 Ann Street  276.60  0.1228       1129   44      5    1.0   \n",
       "28    26 Broadfield Place  397.00  0.1492       1674   34      7    2.0   \n",
       "29      16 Jackson Street  221.90  0.0852       1184   94      5    1.0   \n",
       "\n",
       "    garages  \n",
       "0         2  \n",
       "1         1  \n",
       "2         2  \n",
       "3         1  \n",
       "4         1  \n",
       "5         0  \n",
       "6         0  \n",
       "7         1  \n",
       "8         0  \n",
       "9         2  \n",
       "10        0  \n",
       "11        1  \n",
       "12        0  \n",
       "13        1  \n",
       "14        1  \n",
       "15        0  \n",
       "16        1  \n",
       "17        2  \n",
       "18        0  \n",
       "19        0  \n",
       "20        1  \n",
       "21        0  \n",
       "22        2  \n",
       "23        2  \n",
       "24        2  \n",
       "25        0  \n",
       "26        0  \n",
       "27        0  \n",
       "28        1  \n",
       "29        0  "
      ]
     },
     "execution_count": 15,
     "metadata": {},
     "output_type": "execute_result"
    }
   ],
   "source": [
    "houseprice = pd.read_excel('house_prices.xlsx')\n",
    "houseprice"
   ]
  },
  {
   "cell_type": "code",
   "execution_count": 16,
   "id": "d8d65de5",
   "metadata": {
    "scrolled": false
   },
   "outputs": [
    {
     "name": "stdout",
     "output_type": "stream",
     "text": [
      "<class 'pandas.core.frame.DataFrame'>\n",
      "RangeIndex: 30 entries, 0 to 29\n",
      "Data columns (total 8 columns):\n",
      " #   Column     Non-Null Count  Dtype  \n",
      "---  ------     --------------  -----  \n",
      " 0   address    30 non-null     object \n",
      " 1   price      30 non-null     float64\n",
      " 2   acres      30 non-null     float64\n",
      " 3   size_sqft  30 non-null     int64  \n",
      " 4   age        30 non-null     int64  \n",
      " 5   rooms      30 non-null     int64  \n",
      " 6   baths      30 non-null     float64\n",
      " 7   garages    30 non-null     int64  \n",
      "dtypes: float64(3), int64(4), object(1)\n",
      "memory usage: 2.0+ KB\n"
     ]
    }
   ],
   "source": [
    "houseprice.info()"
   ]
  },
  {
   "cell_type": "markdown",
   "id": "f1318d3f",
   "metadata": {},
   "source": [
    "There are no null values in the dataframe"
   ]
  },
  {
   "cell_type": "code",
   "execution_count": 17,
   "id": "be68a645",
   "metadata": {},
   "outputs": [
    {
     "data": {
      "text/plain": [
       "count     30.000000\n",
       "mean     389.849333\n",
       "std      120.388100\n",
       "min      217.700000\n",
       "25%      314.325000\n",
       "50%      363.750000\n",
       "75%      438.525000\n",
       "max      749.740000\n",
       "Name: price, dtype: float64"
      ]
     },
     "execution_count": 17,
     "metadata": {},
     "output_type": "execute_result"
    }
   ],
   "source": [
    "#2.1\n",
    "houseprice.price.describe()"
   ]
  },
  {
   "cell_type": "markdown",
   "id": "3fde7f7a",
   "metadata": {},
   "source": [
    "The above chart fully describes house prices in the recorded community. "
   ]
  },
  {
   "cell_type": "code",
   "execution_count": 18,
   "id": "4cc45ffe",
   "metadata": {
    "scrolled": true
   },
   "outputs": [
    {
     "data": {
      "text/plain": [
       "Text(0.5, 1.0, 'correlation of house price to room number')"
      ]
     },
     "execution_count": 18,
     "metadata": {},
     "output_type": "execute_result"
    },
    {
     "data": {
      "image/png": "[encoded data removed]",
      "text/plain": [
       "<Figure size 432x288 with 1 Axes>"
      ]
     },
     "metadata": {},
     "output_type": "display_data"
    }
   ],
   "source": [
    "#2.2\n",
    "houseprice.groupby('rooms').price.mean().plot(kind = 'line').set_title('correlation of house price to room number')"
   ]
  },
  {
   "cell_type": "markdown",
   "id": "842f1c2b",
   "metadata": {},
   "source": [
    "It looks like houses with 9 rooms are the most expensive, but then the price decreases  past the 9 room mark"
   ]
  },
  {
   "cell_type": "code",
   "execution_count": 19,
   "id": "4164ff82",
   "metadata": {},
   "outputs": [
    {
     "data": {
      "text/plain": [
       "<seaborn.axisgrid.JointGrid at 0x7feabd846610>"
      ]
     },
     "execution_count": 19,
     "metadata": {},
     "output_type": "execute_result"
    },
    {
     "data": {
      "image/png": "[encoded data removed]",
      "text/plain": [
       "<Figure size 432x432 with 3 Axes>"
      ]
     },
     "metadata": {},
     "output_type": "display_data"
    }
   ],
   "source": [
    "#2.3\n",
    "sns.jointplot(data=houseprice, x =\"price\",y =\"acres\" ,kind=\"reg\" ) "
   ]
  },
  {
   "cell_type": "markdown",
   "id": "a3a40e56",
   "metadata": {},
   "source": [
    "There is a positive correlation between house price and the amount of acres "
   ]
  },
  {
   "cell_type": "code",
   "execution_count": 20,
   "id": "26ff9cbf",
   "metadata": {},
   "outputs": [
    {
     "data": {
      "image/png": "[encoded data removed]",
      "text/plain": [
       "<Figure size 432x432 with 3 Axes>"
      ]
     },
     "metadata": {},
     "output_type": "display_data"
    }
   ],
   "source": [
    "sns.jointplot(data=houseprice, x =\"price\",y =\"size_sqft\" ,kind=\"reg\" ); "
   ]
  },
  {
   "cell_type": "markdown",
   "id": "513a2e32",
   "metadata": {},
   "source": [
    "There is a strong positive correlation between house price and the square footage of the house"
   ]
  },
  {
   "cell_type": "code",
   "execution_count": 21,
   "id": "5891e6f8",
   "metadata": {
    "scrolled": true
   },
   "outputs": [
    {
     "data": {
      "image/png": "[encoded data removed]",
      "text/plain": [
       "<Figure size 432x432 with 3 Axes>"
      ]
     },
     "metadata": {},
     "output_type": "display_data"
    }
   ],
   "source": [
    "sns.jointplot(data=houseprice, x =\"price\",y =\"age\" ,kind=\"reg\" ); "
   ]
  },
  {
   "cell_type": "markdown",
   "id": "c7c4eca2",
   "metadata": {},
   "source": [
    "There is a negative correlation between the age of the house and the price of the house.  The older the house,  the cheaper the price of the house"
   ]
  },
  {
   "cell_type": "code",
   "execution_count": 22,
   "id": "5a76ddd7",
   "metadata": {},
   "outputs": [
    {
     "data": {
      "text/plain": [
       "Text(0.5, 1.0, 'correlation of house price to room number')"
      ]
     },
     "execution_count": 22,
     "metadata": {},
     "output_type": "execute_result"
    },
    {
     "data": {
      "image/png": "[encoded data removed]",
      "text/plain": [
       "<Figure size 432x288 with 1 Axes>"
      ]
     },
     "metadata": {},
     "output_type": "display_data"
    }
   ],
   "source": [
    "houseprice.groupby('baths').price.mean().plot(kind = 'line').set_title('correlation of house price to room number')"
   ]
  },
  {
   "cell_type": "markdown",
   "id": "b56caddf",
   "metadata": {},
   "source": [
    "It could be seen that the most expensive house has 2.5 baths, and after that, the houses with more baths have a lower price."
   ]
  },
  {
   "cell_type": "markdown",
   "id": "5314a8f0",
   "metadata": {},
   "source": [
    "2.4\n",
    "The most influential attribute to house price is the square footage. The more square footage of the house, the more expensive it will be.  I did not find any findings surprising aside from the fact that more rooms in a house does not always mean more expensive.  I was able to illustrate that once a house reaches 9 rooms, the price lowers drastically."
   ]
  },
  {
   "cell_type": "code",
   "execution_count": 23,
   "id": "d0443519",
   "metadata": {
    "scrolled": true
   },
   "outputs": [
    {
     "name": "stdout",
     "output_type": "stream",
     "text": [
      "\n",
      "\n",
      "\n",
      " Finished execution at 2021-12-13 14:31:18.368793\n",
      "katia\n"
     ]
    }
   ],
   "source": [
    "import getpass\n",
    "import datetime\n",
    "print('\\n\\n\\n Finished execution at' , datetime.datetime.now())\n",
    "print(getpass.getuser())"
   ]
  },
  {
   "cell_type": "code",
   "execution_count": null,
   "id": "c6263893",
   "metadata": {},
   "outputs": [],
   "source": []
  }
 ],
 "metadata": {
  "kernelspec": {
   "display_name": "Python 3",
   "language": "python",
   "name": "python3"
  },
  "language_info": {
   "codemirror_mode": {
    "name": "ipython",
    "version": 3
   },
   "file_extension": ".py",
   "mimetype": "text/x-python",
   "name": "python",
   "nbconvert_exporter": "python",
   "pygments_lexer": "ipython3",
   "version": "3.8.8"
  }
 },
 "nbformat": 4,
 "nbformat_minor": 5
}
